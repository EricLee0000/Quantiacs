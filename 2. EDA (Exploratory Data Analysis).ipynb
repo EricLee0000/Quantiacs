{
 "cells": [
  {
   "cell_type": "code",
   "execution_count": 20,
   "metadata": {},
   "outputs": [],
   "source": [
    "import matplotlib.pyplot as plt # for plotting graphs\n",
    "import seaborn as sns\n",
    "%matplotlib inline\n",
    "import numpy as np # for computations\n",
    "import pandas as pd # for manipulating data\n",
    "import scipy.stats as sci"
   ]
  },
  {
   "cell_type": "markdown",
   "metadata": {},
   "source": [
    "After importing the necessary tools, let's learn how to work with the data first. Yes, I'm sure you all want to get right to the trading and making the $$$$, but EDA (exploratory data analysis) is necessary to build a well-functioning algo.\n",
    "\n",
    "Here's a link to a quick overview of EDA (https://www.datacamp.com/community/tutorials/exploratory-data-analysis-python)."
   ]
  },
  {
   "cell_type": "code",
   "execution_count": 21,
   "metadata": {},
   "outputs": [
    {
     "data": {
      "text/html": [
       "<div>\n",
       "<style scoped>\n",
       "    .dataframe tbody tr th:only-of-type {\n",
       "        vertical-align: middle;\n",
       "    }\n",
       "\n",
       "    .dataframe tbody tr th {\n",
       "        vertical-align: top;\n",
       "    }\n",
       "\n",
       "    .dataframe thead th {\n",
       "        text-align: right;\n",
       "    }\n",
       "</style>\n",
       "<table border=\"1\" class=\"dataframe\">\n",
       "  <thead>\n",
       "    <tr style=\"text-align: right;\">\n",
       "      <th></th>\n",
       "      <th>DATE</th>\n",
       "      <th>OPEN</th>\n",
       "      <th>HIGH</th>\n",
       "      <th>LOW</th>\n",
       "      <th>CLOSE</th>\n",
       "      <th>VOL</th>\n",
       "      <th>OI</th>\n",
       "      <th>P</th>\n",
       "      <th>R</th>\n",
       "      <th>RINFO</th>\n",
       "    </tr>\n",
       "  </thead>\n",
       "  <tbody>\n",
       "    <tr>\n",
       "      <th>7106</th>\n",
       "      <td>2018-03-12</td>\n",
       "      <td>139437.5</td>\n",
       "      <td>140262.5</td>\n",
       "      <td>139187.5</td>\n",
       "      <td>139450.0</td>\n",
       "      <td>1644022</td>\n",
       "      <td>1166354</td>\n",
       "      <td>0</td>\n",
       "      <td>0</td>\n",
       "      <td>237.5</td>\n",
       "    </tr>\n",
       "    <tr>\n",
       "      <th>7107</th>\n",
       "      <td>2018-03-13</td>\n",
       "      <td>139350.0</td>\n",
       "      <td>140362.5</td>\n",
       "      <td>138125.0</td>\n",
       "      <td>138637.5</td>\n",
       "      <td>2226645</td>\n",
       "      <td>1857383</td>\n",
       "      <td>0</td>\n",
       "      <td>0</td>\n",
       "      <td>0.0</td>\n",
       "    </tr>\n",
       "    <tr>\n",
       "      <th>7108</th>\n",
       "      <td>2018-03-14</td>\n",
       "      <td>138350.0</td>\n",
       "      <td>139175.0</td>\n",
       "      <td>137412.5</td>\n",
       "      <td>137695.0</td>\n",
       "      <td>1905137</td>\n",
       "      <td>2385499</td>\n",
       "      <td>0</td>\n",
       "      <td>0</td>\n",
       "      <td>0.0</td>\n",
       "    </tr>\n",
       "    <tr>\n",
       "      <th>7109</th>\n",
       "      <td>2018-03-15</td>\n",
       "      <td>137737.5</td>\n",
       "      <td>138362.5</td>\n",
       "      <td>137250.0</td>\n",
       "      <td>137925.0</td>\n",
       "      <td>1370921</td>\n",
       "      <td>2609150</td>\n",
       "      <td>0</td>\n",
       "      <td>0</td>\n",
       "      <td>0.0</td>\n",
       "    </tr>\n",
       "    <tr>\n",
       "      <th>7110</th>\n",
       "      <td>2018-03-16</td>\n",
       "      <td>137875.0</td>\n",
       "      <td>138312.5</td>\n",
       "      <td>137512.5</td>\n",
       "      <td>137775.0</td>\n",
       "      <td>1102984</td>\n",
       "      <td>2665457</td>\n",
       "      <td>0</td>\n",
       "      <td>0</td>\n",
       "      <td>0.0</td>\n",
       "    </tr>\n",
       "  </tbody>\n",
       "</table>\n",
       "</div>"
      ],
      "text/plain": [
       "           DATE      OPEN      HIGH       LOW     CLOSE      VOL       OI   P  \\\n",
       "7106 2018-03-12  139437.5  140262.5  139187.5  139450.0  1644022  1166354   0   \n",
       "7107 2018-03-13  139350.0  140362.5  138125.0  138637.5  2226645  1857383   0   \n",
       "7108 2018-03-14  138350.0  139175.0  137412.5  137695.0  1905137  2385499   0   \n",
       "7109 2018-03-15  137737.5  138362.5  137250.0  137925.0  1370921  2609150   0   \n",
       "7110 2018-03-16  137875.0  138312.5  137512.5  137775.0  1102984  2665457   0   \n",
       "\n",
       "       R   RINFO  \n",
       "7106   0   237.5  \n",
       "7107   0     0.0  \n",
       "7108   0     0.0  \n",
       "7109   0     0.0  \n",
       "7110   0     0.0  "
      ]
     },
     "execution_count": 21,
     "metadata": {},
     "output_type": "execute_result"
    }
   ],
   "source": [
    "# If you haven't gone through the steps to install the quantiacs toolbox, please look here first (https://www.quantiacs.com/For-Quants/GetStarted.aspx)\n",
    "\n",
    "# All of the data quantiacs provides is included. Let's take a look at one data set first. The ES aka E-mini S&P 500 Index futures.\n",
    "# The data is within the \"tickerData\" folder. Find where it is in your file directory.\n",
    "F_ES = pd.read_csv('C:/FuturesTickerData/F_ES.txt', parse_dates=['DATE'])\n",
    "# F_ES = pd.read_csv('.../tickerData/F_ES.txt')\n",
    "F_ES.tail()"
   ]
  },
  {
   "cell_type": "code",
   "execution_count": 22,
   "metadata": {},
   "outputs": [
    {
     "name": "stdout",
     "output_type": "stream",
     "text": [
      "<class 'pandas.core.frame.DataFrame'>\n",
      "RangeIndex: 7111 entries, 0 to 7110\n",
      "Data columns (total 10 columns):\n",
      "DATE      7111 non-null datetime64[ns]\n",
      " OPEN     7111 non-null float64\n",
      " HIGH     7111 non-null float64\n",
      " LOW      7111 non-null float64\n",
      " CLOSE    7111 non-null float64\n",
      " VOL      7111 non-null int64\n",
      " OI       7111 non-null int64\n",
      " P        7111 non-null int64\n",
      " R        7111 non-null int64\n",
      " RINFO    7111 non-null float64\n",
      "dtypes: datetime64[ns](1), float64(5), int64(4)\n",
      "memory usage: 555.6 KB\n"
     ]
    }
   ],
   "source": [
    "F_ES.info()"
   ]
  },
  {
   "cell_type": "code",
   "execution_count": 23,
   "metadata": {},
   "outputs": [
    {
     "data": {
      "text/html": [
       "<div>\n",
       "<style scoped>\n",
       "    .dataframe tbody tr th:only-of-type {\n",
       "        vertical-align: middle;\n",
       "    }\n",
       "\n",
       "    .dataframe tbody tr th {\n",
       "        vertical-align: top;\n",
       "    }\n",
       "\n",
       "    .dataframe thead th {\n",
       "        text-align: right;\n",
       "    }\n",
       "</style>\n",
       "<table border=\"1\" class=\"dataframe\">\n",
       "  <thead>\n",
       "    <tr style=\"text-align: right;\">\n",
       "      <th></th>\n",
       "      <th>OPEN</th>\n",
       "      <th>HIGH</th>\n",
       "      <th>LOW</th>\n",
       "      <th>CLOSE</th>\n",
       "      <th>VOL</th>\n",
       "      <th>OI</th>\n",
       "      <th>P</th>\n",
       "      <th>R</th>\n",
       "      <th>RINFO</th>\n",
       "    </tr>\n",
       "  </thead>\n",
       "  <tbody>\n",
       "    <tr>\n",
       "      <th>count</th>\n",
       "      <td>7111.000000</td>\n",
       "      <td>7111.000000</td>\n",
       "      <td>7111.000000</td>\n",
       "      <td>7111.000000</td>\n",
       "      <td>7.111000e+03</td>\n",
       "      <td>7.111000e+03</td>\n",
       "      <td>7111.000000</td>\n",
       "      <td>7111.000000</td>\n",
       "      <td>7111.000000</td>\n",
       "    </tr>\n",
       "    <tr>\n",
       "      <th>mean</th>\n",
       "      <td>58362.529602</td>\n",
       "      <td>58768.173464</td>\n",
       "      <td>57933.574603</td>\n",
       "      <td>58379.958374</td>\n",
       "      <td>9.157235e+05</td>\n",
       "      <td>1.174028e+06</td>\n",
       "      <td>3184.491492</td>\n",
       "      <td>3184.491492</td>\n",
       "      <td>1.849248</td>\n",
       "    </tr>\n",
       "    <tr>\n",
       "      <th>std</th>\n",
       "      <td>27840.119454</td>\n",
       "      <td>27977.427908</td>\n",
       "      <td>27703.939599</td>\n",
       "      <td>27856.096161</td>\n",
       "      <td>1.006158e+06</td>\n",
       "      <td>1.195672e+06</td>\n",
       "      <td>25062.363777</td>\n",
       "      <td>25062.363777</td>\n",
       "      <td>49.711177</td>\n",
       "    </tr>\n",
       "    <tr>\n",
       "      <th>min</th>\n",
       "      <td>14885.000000</td>\n",
       "      <td>15210.000000</td>\n",
       "      <td>14780.000000</td>\n",
       "      <td>14867.500000</td>\n",
       "      <td>1.006000e+03</td>\n",
       "      <td>1.040000e+02</td>\n",
       "      <td>0.000000</td>\n",
       "      <td>0.000000</td>\n",
       "      <td>-450.000000</td>\n",
       "    </tr>\n",
       "    <tr>\n",
       "      <th>25%</th>\n",
       "      <td>37595.000000</td>\n",
       "      <td>37990.000000</td>\n",
       "      <td>37318.750000</td>\n",
       "      <td>37702.500000</td>\n",
       "      <td>6.338400e+04</td>\n",
       "      <td>1.409080e+05</td>\n",
       "      <td>0.000000</td>\n",
       "      <td>0.000000</td>\n",
       "      <td>0.000000</td>\n",
       "    </tr>\n",
       "    <tr>\n",
       "      <th>50%</th>\n",
       "      <td>58137.500000</td>\n",
       "      <td>58650.000000</td>\n",
       "      <td>57575.000000</td>\n",
       "      <td>58125.000000</td>\n",
       "      <td>6.095270e+05</td>\n",
       "      <td>4.639860e+05</td>\n",
       "      <td>0.000000</td>\n",
       "      <td>0.000000</td>\n",
       "      <td>0.000000</td>\n",
       "    </tr>\n",
       "    <tr>\n",
       "      <th>75%</th>\n",
       "      <td>71093.750000</td>\n",
       "      <td>71556.250000</td>\n",
       "      <td>70487.500000</td>\n",
       "      <td>71075.000000</td>\n",
       "      <td>1.584350e+06</td>\n",
       "      <td>2.594005e+06</td>\n",
       "      <td>0.000000</td>\n",
       "      <td>0.000000</td>\n",
       "      <td>0.000000</td>\n",
       "    </tr>\n",
       "    <tr>\n",
       "      <th>max</th>\n",
       "      <td>143712.500000</td>\n",
       "      <td>143925.000000</td>\n",
       "      <td>142575.000000</td>\n",
       "      <td>143737.500000</td>\n",
       "      <td>6.926660e+06</td>\n",
       "      <td>3.594453e+06</td>\n",
       "      <td>201806.000000</td>\n",
       "      <td>201806.000000</td>\n",
       "      <td>1150.000000</td>\n",
       "    </tr>\n",
       "  </tbody>\n",
       "</table>\n",
       "</div>"
      ],
      "text/plain": [
       "                OPEN           HIGH            LOW          CLOSE  \\\n",
       "count    7111.000000    7111.000000    7111.000000    7111.000000   \n",
       "mean    58362.529602   58768.173464   57933.574603   58379.958374   \n",
       "std     27840.119454   27977.427908   27703.939599   27856.096161   \n",
       "min     14885.000000   15210.000000   14780.000000   14867.500000   \n",
       "25%     37595.000000   37990.000000   37318.750000   37702.500000   \n",
       "50%     58137.500000   58650.000000   57575.000000   58125.000000   \n",
       "75%     71093.750000   71556.250000   70487.500000   71075.000000   \n",
       "max    143712.500000  143925.000000  142575.000000  143737.500000   \n",
       "\n",
       "                VOL            OI              P              R        RINFO  \n",
       "count  7.111000e+03  7.111000e+03    7111.000000    7111.000000  7111.000000  \n",
       "mean   9.157235e+05  1.174028e+06    3184.491492    3184.491492     1.849248  \n",
       "std    1.006158e+06  1.195672e+06   25062.363777   25062.363777    49.711177  \n",
       "min    1.006000e+03  1.040000e+02       0.000000       0.000000  -450.000000  \n",
       "25%    6.338400e+04  1.409080e+05       0.000000       0.000000     0.000000  \n",
       "50%    6.095270e+05  4.639860e+05       0.000000       0.000000     0.000000  \n",
       "75%    1.584350e+06  2.594005e+06       0.000000       0.000000     0.000000  \n",
       "max    6.926660e+06  3.594453e+06  201806.000000  201806.000000  1150.000000  "
      ]
     },
     "execution_count": 23,
     "metadata": {},
     "output_type": "execute_result"
    }
   ],
   "source": [
    "F_ES.describe()\n",
    "# parameter details --> \n",
    "# http://quantiacs-python-toolbox-documentation.readthedocs.io/en/latest/ts_structure.html#arguments-parameters"
   ]
  },
  {
   "cell_type": "code",
   "execution_count": 24,
   "metadata": {},
   "outputs": [
    {
     "data": {
      "text/plain": [
       "DATE      0\n",
       " OPEN     0\n",
       " HIGH     0\n",
       " LOW      0\n",
       " CLOSE    0\n",
       " VOL      0\n",
       " OI       0\n",
       " P        0\n",
       " R        0\n",
       " RINFO    0\n",
       "dtype: int64"
      ]
     },
     "execution_count": 24,
     "metadata": {},
     "output_type": "execute_result"
    }
   ],
   "source": [
    "# Double check that there are no NAN values.\n",
    "F_ES.isnull().sum()\n",
    "# There should not be any. YAY!"
   ]
  },
  {
   "cell_type": "markdown",
   "metadata": {},
   "source": [
    "# Visualization"
   ]
  },
  {
   "cell_type": "code",
   "execution_count": 25,
   "metadata": {},
   "outputs": [
    {
     "data": {
      "text/plain": [
       "[<matplotlib.lines.Line2D at 0xf3402e8>]"
      ]
     },
     "execution_count": 25,
     "metadata": {},
     "output_type": "execute_result"
    },
    {
     "data": {
      "image/png": "[encoded data removed]",
      "text/plain": [
       "<matplotlib.figure.Figure at 0xf32add8>"
      ]
     },
     "metadata": {},
     "output_type": "display_data"
    }
   ],
   "source": [
    "# Let's plot a simple chart of the close price over the last 2 years (*note: avg of 252 trading days per year)\n",
    "x = F_ES['DATE'].iloc[(-252*2):]\n",
    "y = F_ES[' CLOSE'].iloc[(-252*2):]\n",
    "\n",
    "fig = plt.figure(1)\n",
    "ax1 = fig.add_subplot(111) # adjusts location of plot\n",
    "ax1.set_xlabel('Date')\n",
    "ax1.set_ylabel('Contract Value ($)')\n",
    "ax1.set_title('Price')\n",
    "ax1.plot(x,y)"
   ]
  },
  {
   "cell_type": "code",
   "execution_count": 26,
   "metadata": {},
   "outputs": [
    {
     "data": {
      "image/png": "[encoded data removed]",
      "text/plain": [
       "<matplotlib.figure.Figure at 0xd9a7c18>"
      ]
     },
     "metadata": {},
     "output_type": "display_data"
    }
   ],
   "source": [
    "# Daily price change statistics\n",
    "close_pct_chg = y.pct_change()\n",
    "\n",
    "plt.figure()\n",
    "plt.xlabel('Date')\n",
    "plt.ylabel('Percent')\n",
    "plt.title('Daily Percent Change')\n",
    "plt.plot(x, close_pct_chg)\n",
    "plt.show()"
   ]
  },
  {
   "cell_type": "code",
   "execution_count": 27,
   "metadata": {},
   "outputs": [
    {
     "data": {
      "image/png": "[encoded data removed]",
      "text/plain": [
       "<matplotlib.figure.Figure at 0xf3f8630>"
      ]
     },
     "metadata": {},
     "output_type": "display_data"
    }
   ],
   "source": [
    "# Histogram overlayed with a normal distribution\n",
    "sns.set()\n",
    "dates_2yrs = x[1:]\n",
    "close_pct_chg = close_pct_chg.dropna()\n",
    "\n",
    "_ = plt.hist(close_pct_chg, bins=50)\n",
    "_ = plt.xlabel('Daily % Change')\n",
    "_ = plt.ylabel('Number of events')\n",
    "\n",
    "import matplotlib.mlab as mlab\n",
    "\n",
    "mean = np.mean(close_pct_chg)\n",
    "std = np.std(close_pct_chg)\n",
    "\n",
    "mu, sigma = mean, std\n",
    "x = np.linspace(mu - 3*sigma, mu + 3*sigma, 100)\n",
    "plt.plot(x, mlab.normpdf(x, mu, sigma))\n",
    "plt.show()\n",
    "\n",
    "# Source: https://stackoverflow.com/questions/10138085/python-pylab-plot-normal-distribution"
   ]
  },
  {
   "cell_type": "code",
   "execution_count": 28,
   "metadata": {},
   "outputs": [
    {
     "name": "stdout",
     "output_type": "stream",
     "text": [
      "kurtosis: 12.1854970608\n",
      "skew: -1.54306578061\n",
      "-------------------------------------\n",
      "KurtosistestResult(statistic=10.554508526798964, pvalue=4.841666813925956e-26)\n",
      "DescribeResult(nobs=503L, minmax=(-0.04959651827001543, 0.02442282007250518), mean=0.0006410460102019155, variance=4.1534441365244915e-05, skewness=-1.543065780605483, kurtosis=12.185497060822952)\n",
      "DescribeResult(nobs=504L, minmax=(-0.020519451728253996, 0.018668361524798886), mean=0.0009505798197839413, variance=3.5891932348867326e-05, skewness=-0.05020606392460744, kurtosis=0.19250047517503743)\n"
     ]
    }
   ],
   "source": [
    "print 'kurtosis: ' + str(sci.kurtosis(close_pct_chg))\n",
    "print 'skew: ' + str(sci.skew(close_pct_chg))\n",
    "print '-------------------------------------'\n",
    "print sci.kurtosistest(close_pct_chg)\n",
    "print sci.describe(close_pct_chg)\n",
    "\n",
    "x = np.random.normal(mean, std, 504)\n",
    "print sci.describe(x)\n"
   ]
  },
  {
   "cell_type": "code",
   "execution_count": 29,
   "metadata": {},
   "outputs": [
    {
     "data": {
      "image/png": "[encoded data removed]",
      "text/plain": [
       "<matplotlib.figure.Figure at 0xdfd5d30>"
      ]
     },
     "metadata": {},
     "output_type": "display_data"
    },
    {
     "name": "stdout",
     "output_type": "stream",
     "text": [
      "mean: 0.000641046010202\n",
      "std: 0.00643831250586\n",
      "var: 4.14518679232e-05\n"
     ]
    }
   ],
   "source": [
    "# Summary statistics & boxplot\n",
    "_ = sns.boxplot(close_pct_chg)\n",
    "_ = plt.xlabel('Daily Close % Changes')\n",
    "plt.show()\n",
    "\n",
    "print \"mean: \" + str(np.mean(close_pct_chg))\n",
    "print \"std: \" + str(np.std(close_pct_chg))\n",
    "print \"var: \" + str(np.var(close_pct_chg))"
   ]
  },
  {
   "cell_type": "code",
   "execution_count": 30,
   "metadata": {
    "scrolled": true
   },
   "outputs": [
    {
     "data": {
      "image/png": "[encoded data removed]",
      "text/plain": [
       "<matplotlib.figure.Figure at 0xdfcada0>"
      ]
     },
     "metadata": {},
     "output_type": "display_data"
    }
   ],
   "source": [
    "# Let's do some analysis on two contracts YM and ES\n",
    "F_YM = pd.read_csv('C:/FuturesTickerData/F_YM.txt', parse_dates=['DATE'])\n",
    "\n",
    "F_YM_2yrs = F_YM[' CLOSE'].iloc[(-252*2):].pct_change().dropna()\n",
    "F_ES_2yrs = F_ES[' CLOSE'].iloc[(-252*2):].pct_change().dropna()\n",
    "\n",
    "_ = plt.plot(F_YM_2yrs, F_ES_2yrs, marker='.', linestyle='none')\n",
    "_ = plt.xlabel('YM Daily Percent Change')\n",
    "_ = plt.ylabel('ES Daily Percent Change')\n",
    "_ = plt.title('YM vs. ES')\n",
    "plt.show()"
   ]
  },
  {
   "cell_type": "code",
   "execution_count": 31,
   "metadata": {},
   "outputs": [
    {
     "name": "stdout",
     "output_type": "stream",
     "text": [
      "[[1.        0.9442674]\n",
      " [0.9442674 1.       ]]\n"
     ]
    }
   ],
   "source": [
    "print np.corrcoef(F_YM_2yrs, F_ES_2yrs)"
   ]
  },
  {
   "cell_type": "code",
   "execution_count": 32,
   "metadata": {},
   "outputs": [],
   "source": [
    "# https://docs.scipy.org/doc/scipy-0.7.x/reference/stats.html"
   ]
  },
  {
   "cell_type": "code",
   "execution_count": 33,
   "metadata": {
    "scrolled": true
   },
   "outputs": [],
   "source": [
    "up_ES_2yrs = 0\n",
    "down_ES_2yrs = 0\n",
    "for num in F_ES_2yrs:\n",
    "    if num >= 0:\n",
    "        up_ES_2yrs +=1\n",
    "    else:\n",
    "        down_ES_2yrs +=1\n",
    "#plt.plot(F_ES_2yrs, cumulative=True, normed=True)"
   ]
  },
  {
   "cell_type": "code",
   "execution_count": 34,
   "metadata": {},
   "outputs": [
    {
     "name": "stdout",
     "output_type": "stream",
     "text": [
      "285\n",
      "218\n",
      "<type 'int'>\n"
     ]
    }
   ],
   "source": [
    "print up_ES_2yrs\n",
    "print down_ES_2yrs\n",
    "print type(up_ES_2yrs)"
   ]
  },
  {
   "cell_type": "code",
   "execution_count": 35,
   "metadata": {},
   "outputs": [
    {
     "data": {
      "text/plain": [
       "Text(0,0.5,u'# of days')"
      ]
     },
     "execution_count": 35,
     "metadata": {},
     "output_type": "execute_result"
    },
    {
     "data": {
      "image/png": "[encoded data removed]",
      "text/plain": [
       "<matplotlib.figure.Figure at 0xf34c080>"
      ]
     },
     "metadata": {},
     "output_type": "display_data"
    }
   ],
   "source": [
    "plt.bar(['up', 'down'], [up_ES_2yrs,down_ES_2yrs])\n",
    "plt.title('Up vs. Down days')\n",
    "plt.ylabel('# of days')\n",
    "#plt.bar(up_down_ES_2yrs)"
   ]
  }
 ],
 "metadata": {
  "kernelspec": {
   "display_name": "Python 2",
   "language": "python",
   "name": "python2"
  },
  "language_info": {
   "codemirror_mode": {
    "name": "ipython",
    "version": 2
   },
   "file_extension": ".py",
   "mimetype": "text/x-python",
   "name": "python",
   "nbconvert_exporter": "python",
   "pygments_lexer": "ipython2",
   "version": "2.7.14"
  }
 },
 "nbformat": 4,
 "nbformat_minor": 2
}
